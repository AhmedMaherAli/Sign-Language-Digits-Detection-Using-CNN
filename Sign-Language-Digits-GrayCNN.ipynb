import warnings
warnings.filterwarnings('ignore')
from google.colab import drive
drive.mount('./Colab-Notebooks')
import os
os.chdir('./Colab-Notebooks/My Drive/Colab Notebooks')



%tensorflow_version 1.x
from keras.models import Sequential
from keras.layers import Dense, Dropout, Activation, Flatten
from keras.layers import Conv2D, MaxPooling2D, SpatialDropout2D
from keras import optimizers
from keras.layers.normalization import BatchNormalization
from keras.utils import plot_model
from sklearn.model_selection import train_test_split
from utils import get_dataset
import matplotlib.pyplot as plt




X, Y = get_dataset('./Dataset', as_gray=True)
print("Dataset Size: ", X.shape)

features_train, features_test1, targets_train, targets_test1 = train_test_split(X, Y, test_size=0.4)
features_validation, features_test, targets_validation, targets_test = train_test_split(features_test1, targets_test1, test_size=0.5)

print("Dataset-Training Size: ", features_train.shape)
print("Dataset-Validation Size: ", features_validation.shape)
print("Dataset-Test Size: ", features_test.shape)




# Gray images CNN Model 1
model = Sequential()

#Layer 1 (Input 64x64 pixels image) with 32 filters of (3,3) size
model.add(Conv2D(32, (3, 3), input_shape=(64,64,1), padding='same', data_format='channels_last'))
model.add(Activation('relu'))
model.add(MaxPooling2D(pool_size=(2,2)))
model.add(BatchNormalization())
model.add(SpatialDropout2D(0.3, data_format='channels_last'))

#Layer 2
model.add(Conv2D(64, (3, 3), data_format='channels_last'))
model.add(Activation('relu'))
model.add(MaxPooling2D(pool_size=(2,2)))
model.add(BatchNormalization())
model.add(SpatialDropout2D(0.3, data_format='channels_last'))

model.add(Flatten(data_format='channels_last'))

#Layer 3
model.add(Dense(128))
model.add(Activation('relu'))
model.add(BatchNormalization())
model.add(Dropout(0.3))

#Layer 4 (Output 10 classes)
model.add(Dense(10,activation="softmax"))





plt.plot(history.history['acc'])
plt.plot(history.history['val_acc'])
plt.title('Gray Model 1 CNN accuracy')
plt.ylabel('Accuracy')
plt.xlabel('Epoch')
plt.legend(['Train', 'Validation'], loc='upper left')
plt.show()





# Gray images Model 2
model_2 = Sequential()

#Layer 1 (Input 64x64 pixels image) with 32 filters of (3,3) size
model_2.add(Conv2D(32, (3, 3), input_shape=(64,64,1), padding='same', data_format='channels_last'))
model_2.add(Activation('relu'))
model_2.add(MaxPooling2D(pool_size=(2,2)))
model_2.add(BatchNormalization())
model_2.add(SpatialDropout2D(0.3, data_format='channels_last'))

#Layer 2
model_2.add(Conv2D(64, (3, 3), data_format='channels_last'))
model_2.add(Activation('relu'))
model_2.add(MaxPooling2D(pool_size=(2,2)))
model_2.add(BatchNormalization())
model_2.add(SpatialDropout2D(0.3, data_format='channels_last'))

model_2.add(Flatten(data_format='channels_last'))

#Layer 3
model_2.add(Dense(512))
model_2.add(Activation('relu'))
model_2.add(BatchNormalization())
model_2.add(Dropout(0.3))

#Layer 4
model_2.add(Dense(512))
model_2.add(Activation('relu'))
model_2.add(BatchNormalization())
model_2.add(Dropout(0.3))

#Layer 5 (Output 10 classes)
model_2.add(Dense(10,activation="softmax"))

model_2.compile(loss='categorical_crossentropy', optimizer="sgd", metrics=['accuracy'])

history_2 = model_2.fit(features_train, targets_train, 
          batch_size=64, epochs=250, 
          validation_data=(features_validation,targets_validation), verbose=1)

score = model_2.evaluate(features_test, targets_test)

print('\nModel Loss: ', score[0])
print('\nModel Accuracy: ', score[1]*100, '%')






plt.plot(history_2.history['acc'])
plt.plot(history_2.history['val_acc'])
plt.title('Gray Model 2 CNN accuracy')
plt.ylabel('Accuracy')
plt.xlabel('Epoch')
plt.legend(['Train', 'Validation'], loc='upper left')
plt.show()


model.compile(loss='categorical_crossentropy', optimizer="sgd", metrics=['accuracy'])

history = model.fit(features_train, targets_train, 
          batch_size=64, epochs=250, 
          validation_data=(features_validation,targets_validation), verbose=1)

score = model.evaluate(features_test, targets_test)

print('\nModel Loss: ', score[0])
print('\nModel Accuracy: ', score[1]*100, '%')
